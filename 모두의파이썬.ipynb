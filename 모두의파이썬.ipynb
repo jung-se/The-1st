{
  "nbformat": 4,
  "nbformat_minor": 0,
  "metadata": {
    "colab": {
      "name": "Untitled2.ipynb",
      "provenance": [],
      "authorship_tag": "ABX9TyPBAMirxiXl8VH6oT/qZndQ",
      "include_colab_link": true
    },
    "kernelspec": {
      "name": "python3",
      "display_name": "Python 3"
    }
  },
  "cells": [
    {
      "cell_type": "markdown",
      "metadata": {
        "id": "view-in-github",
        "colab_type": "text"
      },
      "source": [
        "<a href=\"https://colab.research.google.com/github/jung-se/The-1st/blob/master/%EB%AA%A8%EB%91%90%EC%9D%98%ED%8C%8C%EC%9D%B4%EC%8D%AC.ipynb\" target=\"_parent\"><img src=\"https://colab.research.google.com/assets/colab-badge.svg\" alt=\"Open In Colab\"/></a>"
      ]
    },
    {
      "cell_type": "code",
      "metadata": {
        "id": "kavLJDdu-7dV",
        "colab_type": "code",
        "colab": {
          "base_uri": "https://localhost:8080/",
          "height": 87
        },
        "outputId": "63784301-3c70-4491-ab93-8b8437721515"
      },
      "source": [
        "import random\n",
        "\n",
        "n=random.randint(1,30)\n",
        "\n",
        "while True:\n",
        "  x=input(\"맞혀 보세요? \")\n",
        "  g=int(x)\n",
        "  if g==n:\n",
        "    print(\"정답\")\n",
        "    break\n",
        "  if g<n:\n",
        "    print(\"너무 작아요\")\n",
        "  if g>n:\n",
        "    print(\"너무 커요\")\n"
      ],
      "execution_count": 9,
      "outputs": [
        {
          "output_type": "stream",
          "text": [
            "맞혀 보세요? 15\n",
            "너무 작아요\n",
            "맞혀 보세요? 25\n",
            "정답\n"
          ],
          "name": "stdout"
        }
      ]
    },
    {
      "cell_type": "code",
      "metadata": {
        "id": "3T4dYfmZ9Bt6",
        "colab_type": "code",
        "colab": {
          "base_uri": "https://localhost:8080/",
          "height": 70
        },
        "outputId": "2178a848-3289-4095-e4d7-35ac8e0a0b57"
      },
      "source": [
        "import random\n",
        "\n",
        "a=random.randint(1,30)\n",
        "b=random.randint(1,30)\n",
        "\n",
        "print(a,\"+\",b,\"=\")\n",
        "x=input()\n",
        "c=int(x)\n",
        "\n",
        "if a+b==c:\n",
        "  print(\"천재\")\n",
        "else:\n",
        "  print(\"바보\")"
      ],
      "execution_count": 13,
      "outputs": [
        {
          "output_type": "stream",
          "text": [
            "7 + 4 =\n",
            "12\n",
            "바보\n"
          ],
          "name": "stdout"
        }
      ]
    }
  ]
}