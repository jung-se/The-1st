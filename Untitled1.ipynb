{
  "nbformat": 4,
  "nbformat_minor": 0,
  "metadata": {
    "colab": {
      "name": "Untitled1.ipynb",
      "provenance": [],
      "authorship_tag": "ABX9TyMjTdQBIXHZ2AbUa7+mLY2A",
      "include_colab_link": true
    },
    "kernelspec": {
      "name": "python3",
      "display_name": "Python 3"
    }
  },
  "cells": [
    {
      "cell_type": "markdown",
      "metadata": {
        "id": "view-in-github",
        "colab_type": "text"
      },
      "source": [
        "<a href=\"https://colab.research.google.com/github/jung-se/The-1st/blob/master/Untitled1.ipynb\" target=\"_parent\"><img src=\"https://colab.research.google.com/assets/colab-badge.svg\" alt=\"Open In Colab\"/></a>"
      ]
    },
    {
      "cell_type": "code",
      "metadata": {
        "id": "FZrtdYeN-p4m",
        "colab_type": "code",
        "colab": {}
      },
      "source": [
        ""
      ],
      "execution_count": 0,
      "outputs": []
    },
    {
      "cell_type": "markdown",
      "metadata": {
        "id": "2S0nGPqC-suU",
        "colab_type": "text"
      },
      "source": [
        "<헤더>\n",
        "#제목\n",
        "##제목\n",
        "###제목\n",
        "####제목\n",
        "\n",
        "* * *\n",
        "\n",
        "<글자>\n",
        "\n",
        "*이탤릭체*\n",
        "\n",
        "_이탤릭체_\n",
        "\n",
        "**굵은 글씨**\n",
        "\n",
        "__굵은 글씨__\n",
        "\n",
        "*동시에__사용__가능*\n",
        "\n",
        "------------------------------------------\n",
        "\n",
        "<번호가 없는 리스트>\n",
        "* 첫째 리스트\n",
        "* 둘째 리스트\n",
        "  * 둘째 리스트의 첫째 하위 리스트\n",
        "  * 둘째 리스트의 둘째 하위 리스트\n",
        "\n",
        "-------------------------------------------\n",
        "<링크>\n",
        "\n",
        "[구글](https://www.google.com)\n",
        "\n",
        "[네이버 스포츠](https://sprots.naver.com)\n",
        "\n",
        "--------------------------------------------\n",
        "<이미지>\n",
        "![이미지 설명](이미지주소)\n"
      ]
    }
  ]
}