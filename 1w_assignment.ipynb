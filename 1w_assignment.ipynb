{
  "nbformat": 4,
  "nbformat_minor": 0,
  "metadata": {
    "colab": {
      "name": "1w/assignment.ipynb",
      "provenance": [],
      "authorship_tag": "ABX9TyPGraMtoXRKgO0NjKx7S3+/",
      "include_colab_link": true
    },
    "kernelspec": {
      "name": "python3",
      "display_name": "Python 3"
    }
  },
  "cells": [
    {
      "cell_type": "markdown",
      "metadata": {
        "id": "view-in-github",
        "colab_type": "text"
      },
      "source": [
        "<a href=\"https://colab.research.google.com/github/jung-se/The-1st/blob/master/1w_assignment.ipynb\" target=\"_parent\"><img src=\"https://colab.research.google.com/assets/colab-badge.svg\" alt=\"Open In Colab\"/></a>"
      ]
    },
    {
      "cell_type": "code",
      "metadata": {
        "id": "d_xMl0_QB2__",
        "colab_type": "code",
        "colab": {}
      },
      "source": [
        ""
      ],
      "execution_count": 0,
      "outputs": []
    },
    {
      "cell_type": "markdown",
      "metadata": {
        "id": "yh0zwF99Dc0E",
        "colab_type": "text"
      },
      "source": [
        "**인공지능 기술 적용 서비스 및 제품**\n",
        "=======================================\n",
        "\n",
        "## 1. 언어\n",
        "\n",
        "  * 네이버 파파고[(papago.naver.com)](https://papago.naver.com)\n",
        "\n",
        "  인공지능 네 가지 기술 중에 가장 관심 있는 분야이다.\n",
        "\n",
        "  > ###### _똑똑한 AI 번역기 파파고, 언어 장벽 없이 대화하는 세상을 꿈꿉니다._\n",
        "\n",
        "  > ###### _NAVER LABS에서 자체 개발한 인공신경망(Artificial Neural Network) 기반 번역 서비스_\n",
        "\n",
        "  파파고를 검색하면 나오는 내용이다. 2018년에는 문장을 통째로 번역하는 인공신경망 기계번역(NMT) 기술을 도입하여 번역의 정확도를 높였다. \n",
        "  > ###### _NMT(Neural Machine Translation)는 기계 번역 방식의 한 종류로 인공지능(AI)이 데이터 학습을 통해 문장 단위로 언어를 번역하는 기술이다. 기존 기계 번역에 주로 사용된 통계 기반 기계 번역(SMT, Statistical Machine Translation)보다 발전된 형태다. (네이버 지식백과)_\n",
        "\n",
        "  한국어-영어 번역을 실행했을 때, 구글 번역기보다 파파고가 정확하고 자연스러운 문장을 만들어 냈다.\n",
        "  \n",
        "* 네이버 파파고와 구글 번역기 결과 비교\n",
        "  \n",
        "  ![네이버 파파고](https://user-images.githubusercontent.com/66197024/83358628-d23c6880-a3af-11ea-80f9-2a058dfc585f.png)\n",
        "\n",
        "  ![구글 번역기](https://user-images.githubusercontent.com/66197024/83358661-f5ffae80-a3af-11ea-8aa6-efc6051fb838.png)\n",
        "\n",
        "### 2. 음성\n",
        "\n",
        " * 슈피겐 포켓토크\n",
        "   * 인공지능 음성 통역기\n",
        "   * 자체 클라우드 엔진을 통해 계속 발전\n",
        "\n",
        "### 3. 이미지\n",
        "\n",
        " * 페이스북 로제타(Facebook Rosetta)\n",
        "   * 머신 러닝 시스템을 이용한 문자 판독장치 \n",
        "   * 이미지와 영상 속 문자를 정확히 판독하는 AI\n",
        "   * 페이스북, 인스타그램의 콘텐츠 정책 위반 여부 판별\n",
        "   * 콘텐츠의 질 향상 및 사용자 맞춤형 포스팅 제공\n",
        "\n",
        "\n",
        "### 4. 자율주행\n",
        "\n",
        " * 테슬라 오토파일럿(Tesla Autopilot)\n",
        "   * 미국 전기자동차업체 테슬라의 자율주행 시스템\n",
        "   * 전방 카메라와 레이더, 차량 둘레에 있는 12개 초음파 센서로 차량 조종 및 속도 조절\n",
        "   * 2016년 5월 차량 카메라가 하얀색 트럭과 하늘을 구분하지 못하여 운전자 사망 사고 발생\n",
        "   * 이후 효율적인 레이더 활용을 통해 장애물을 더 잘 식별할 수 있도록 업데이트"
      ]
    }
  ]
}